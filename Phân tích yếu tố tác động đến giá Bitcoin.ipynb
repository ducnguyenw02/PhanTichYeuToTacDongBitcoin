{
  "cells": [
    {
      "cell_type": "markdown",
      "metadata": {
        "id": "qICSD2jisAVq"
      },
      "source": [
        "# CÀI THƯ VIỆN, ĐỌC DỮ LIỆU TỪ DRIVE"
      ]
    },
    {
      "cell_type": "markdown",
      "metadata": {
        "id": "R7_XOvUphjcJ"
      },
      "source": [
        "Cài đặt thư viện "
      ]
    },
    {
      "cell_type": "code",
      "execution_count": null,
      "metadata": {
        "colab": {
          "base_uri": "https://localhost:8080/"
        },
        "id": "_OTR4uoUZl9Q",
        "outputId": "6c758bb4-f096-4962-9e9f-37f05a9cb6de"
      },
      "outputs": [
        {
          "output_type": "stream",
          "name": "stderr",
          "text": [
            "/usr/local/lib/python3.7/dist-packages/statsmodels/tools/_testing.py:19: FutureWarning: pandas.util.testing is deprecated. Use the functions in the public API at pandas.testing instead.\n",
            "  import pandas.util.testing as tm\n"
          ]
        }
      ],
      "source": [
        "import numpy as np\n",
        "import pandas as pd \n",
        "import seaborn as sns\n",
        "import statsmodels.api as sm\n",
        "from matplotlib import pyplot as plt\n",
        "%matplotlib inline\n",
        "from sklearn.preprocessing import MinMaxScaler\n",
        "from sklearn.model_selection import RandomizedSearchCV\n",
        "from sklearn.model_selection import GridSearchCV\n",
        "from sklearn.metrics import mean_squared_error, mean_absolute_error, mean_absolute_percentage_error\n",
        "import math\n",
        "from keras.models import Sequential\n",
        "from keras.layers import Dense,LSTM\n",
        "from keras.wrappers.scikit_learn import KerasRegressor\n",
        "import os.path\n",
        "from os import path\n",
        "from pylab import rcParams\n",
        "from random import randrange\n",
        "from pandas import Series\n",
        "from matplotlib import pyplot\n",
        "from statsmodels.tsa.seasonal import seasonal_decompose\n",
        "from statsmodels.tsa.tsatools import freq_to_period\n",
        "from sklearn import model_selection, preprocessing, feature_selection, ensemble, linear_model, metrics, decomposition\n",
        "import pickle\n",
        "import os\n",
        "import joblib\n",
        "import numpy as np\n",
        "from keras.layers import Dropout\n",
        "import pandas as pd\n",
        "from matplotlib import pyplot as plt\n",
        "from sklearn.preprocessing import StandardScaler\n",
        "from statsmodels.graphics.tsaplots import plot_acf, plot_pacf\n",
        "from statsmodels.tsa.statespace.varmax import VARMAX\n",
        "from statsmodels.tsa.api import VAR\n",
        "from statsmodels.tsa.stattools import grangercausalitytests, adfuller\n",
        "from tqdm import tqdm_notebook\n",
        "from itertools import product\n",
        "from statsmodels.tsa.stattools import grangercausalitytests\n",
        "import datetime\n",
        "from datetime import date\n",
        "from statsmodels.tsa.api import VAR"
      ]
    },
    {
      "cell_type": "markdown",
      "metadata": {
        "id": "hSEtnvllhhFl"
      },
      "source": [
        "Kết nối drive "
      ]
    },
    {
      "cell_type": "code",
      "execution_count": null,
      "metadata": {
        "colab": {
          "base_uri": "https://localhost:8080/"
        },
        "id": "gjleXRwsZu4M",
        "outputId": "a4a4fadc-2432-40ad-e20b-cf4cdb9afa7a"
      },
      "outputs": [
        {
          "output_type": "stream",
          "name": "stdout",
          "text": [
            "Mounted at /content/drive\n"
          ]
        }
      ],
      "source": [
        "from google.colab import drive\n",
        "drive.mount('/content/drive')"
      ]
    },
    {
      "cell_type": "markdown",
      "metadata": {
        "id": "7p_cFfDkho64"
      },
      "source": [
        "Đọc dữ liệu từ drive"
      ]
    },
    {
      "cell_type": "code",
      "execution_count": null,
      "metadata": {
        "id": "n55hZUgvNc0t"
      },
      "outputs": [],
      "source": [
        "data = pd.read_csv(\"/content/drive/MyDrive/Thiết kế và phân tích thực nghiệm/dataset.csv\")"
      ]
    },
    {
      "cell_type": "markdown",
      "metadata": {
        "id": "3nHUBCQ9nQIM"
      },
      "source": [
        "# XỬ LÝ BỘ DỮ LIỆU\n"
      ]
    },
    {
      "cell_type": "code",
      "execution_count": null,
      "metadata": {
        "colab": {
          "base_uri": "https://localhost:8080/",
          "height": 455
        },
        "id": "A4gnmw1cb8D9",
        "outputId": "0f88a647-17e4-40e9-c76c-2c77ad874485"
      },
      "outputs": [
        {
          "output_type": "execute_result",
          "data": {
            "text/plain": [
              "             BTC/USD      DXY  Fear and Greed Index\n",
              "Date                                               \n",
              "2018-02-06   7737.37   89.674                     8\n",
              "2018-02-07   7588.01   90.340                    36\n",
              "2018-02-08   8259.76   90.278                    30\n",
              "2018-02-09   8693.98   90.324                    44\n",
              "2018-02-10   8560.00   90.224                    54\n",
              "...              ...      ...                   ...\n",
              "2022-06-20  20555.44  104.480                     9\n",
              "2022-06-21  20712.29  104.425                     9\n",
              "2022-06-22  19963.68  104.184                    11\n",
              "2022-06-23  21093.42  104.402                    11\n",
              "2022-06-24  21215.42  104.121                    11\n",
              "\n",
              "[1600 rows x 3 columns]"
            ],
            "text/html": [
              "\n",
              "  <div id=\"df-cf9bf8c9-7a61-4476-9459-ab597fc8893b\">\n",
              "    <div class=\"colab-df-container\">\n",
              "      <div>\n",
              "<style scoped>\n",
              "    .dataframe tbody tr th:only-of-type {\n",
              "        vertical-align: middle;\n",
              "    }\n",
              "\n",
              "    .dataframe tbody tr th {\n",
              "        vertical-align: top;\n",
              "    }\n",
              "\n",
              "    .dataframe thead th {\n",
              "        text-align: right;\n",
              "    }\n",
              "</style>\n",
              "<table border=\"1\" class=\"dataframe\">\n",
              "  <thead>\n",
              "    <tr style=\"text-align: right;\">\n",
              "      <th></th>\n",
              "      <th>BTC/USD</th>\n",
              "      <th>DXY</th>\n",
              "      <th>Fear and Greed Index</th>\n",
              "    </tr>\n",
              "    <tr>\n",
              "      <th>Date</th>\n",
              "      <th></th>\n",
              "      <th></th>\n",
              "      <th></th>\n",
              "    </tr>\n",
              "  </thead>\n",
              "  <tbody>\n",
              "    <tr>\n",
              "      <th>2018-02-06</th>\n",
              "      <td>7737.37</td>\n",
              "      <td>89.674</td>\n",
              "      <td>8</td>\n",
              "    </tr>\n",
              "    <tr>\n",
              "      <th>2018-02-07</th>\n",
              "      <td>7588.01</td>\n",
              "      <td>90.340</td>\n",
              "      <td>36</td>\n",
              "    </tr>\n",
              "    <tr>\n",
              "      <th>2018-02-08</th>\n",
              "      <td>8259.76</td>\n",
              "      <td>90.278</td>\n",
              "      <td>30</td>\n",
              "    </tr>\n",
              "    <tr>\n",
              "      <th>2018-02-09</th>\n",
              "      <td>8693.98</td>\n",
              "      <td>90.324</td>\n",
              "      <td>44</td>\n",
              "    </tr>\n",
              "    <tr>\n",
              "      <th>2018-02-10</th>\n",
              "      <td>8560.00</td>\n",
              "      <td>90.224</td>\n",
              "      <td>54</td>\n",
              "    </tr>\n",
              "    <tr>\n",
              "      <th>...</th>\n",
              "      <td>...</td>\n",
              "      <td>...</td>\n",
              "      <td>...</td>\n",
              "    </tr>\n",
              "    <tr>\n",
              "      <th>2022-06-20</th>\n",
              "      <td>20555.44</td>\n",
              "      <td>104.480</td>\n",
              "      <td>9</td>\n",
              "    </tr>\n",
              "    <tr>\n",
              "      <th>2022-06-21</th>\n",
              "      <td>20712.29</td>\n",
              "      <td>104.425</td>\n",
              "      <td>9</td>\n",
              "    </tr>\n",
              "    <tr>\n",
              "      <th>2022-06-22</th>\n",
              "      <td>19963.68</td>\n",
              "      <td>104.184</td>\n",
              "      <td>11</td>\n",
              "    </tr>\n",
              "    <tr>\n",
              "      <th>2022-06-23</th>\n",
              "      <td>21093.42</td>\n",
              "      <td>104.402</td>\n",
              "      <td>11</td>\n",
              "    </tr>\n",
              "    <tr>\n",
              "      <th>2022-06-24</th>\n",
              "      <td>21215.42</td>\n",
              "      <td>104.121</td>\n",
              "      <td>11</td>\n",
              "    </tr>\n",
              "  </tbody>\n",
              "</table>\n",
              "<p>1600 rows × 3 columns</p>\n",
              "</div>\n",
              "      <button class=\"colab-df-convert\" onclick=\"convertToInteractive('df-cf9bf8c9-7a61-4476-9459-ab597fc8893b')\"\n",
              "              title=\"Convert this dataframe to an interactive table.\"\n",
              "              style=\"display:none;\">\n",
              "        \n",
              "  <svg xmlns=\"http://www.w3.org/2000/svg\" height=\"24px\"viewBox=\"0 0 24 24\"\n",
              "       width=\"24px\">\n",
              "    <path d=\"M0 0h24v24H0V0z\" fill=\"none\"/>\n",
              "    <path d=\"M18.56 5.44l.94 2.06.94-2.06 2.06-.94-2.06-.94-.94-2.06-.94 2.06-2.06.94zm-11 1L8.5 8.5l.94-2.06 2.06-.94-2.06-.94L8.5 2.5l-.94 2.06-2.06.94zm10 10l.94 2.06.94-2.06 2.06-.94-2.06-.94-.94-2.06-.94 2.06-2.06.94z\"/><path d=\"M17.41 7.96l-1.37-1.37c-.4-.4-.92-.59-1.43-.59-.52 0-1.04.2-1.43.59L10.3 9.45l-7.72 7.72c-.78.78-.78 2.05 0 2.83L4 21.41c.39.39.9.59 1.41.59.51 0 1.02-.2 1.41-.59l7.78-7.78 2.81-2.81c.8-.78.8-2.07 0-2.86zM5.41 20L4 18.59l7.72-7.72 1.47 1.35L5.41 20z\"/>\n",
              "  </svg>\n",
              "      </button>\n",
              "      \n",
              "  <style>\n",
              "    .colab-df-container {\n",
              "      display:flex;\n",
              "      flex-wrap:wrap;\n",
              "      gap: 12px;\n",
              "    }\n",
              "\n",
              "    .colab-df-convert {\n",
              "      background-color: #E8F0FE;\n",
              "      border: none;\n",
              "      border-radius: 50%;\n",
              "      cursor: pointer;\n",
              "      display: none;\n",
              "      fill: #1967D2;\n",
              "      height: 32px;\n",
              "      padding: 0 0 0 0;\n",
              "      width: 32px;\n",
              "    }\n",
              "\n",
              "    .colab-df-convert:hover {\n",
              "      background-color: #E2EBFA;\n",
              "      box-shadow: 0px 1px 2px rgba(60, 64, 67, 0.3), 0px 1px 3px 1px rgba(60, 64, 67, 0.15);\n",
              "      fill: #174EA6;\n",
              "    }\n",
              "\n",
              "    [theme=dark] .colab-df-convert {\n",
              "      background-color: #3B4455;\n",
              "      fill: #D2E3FC;\n",
              "    }\n",
              "\n",
              "    [theme=dark] .colab-df-convert:hover {\n",
              "      background-color: #434B5C;\n",
              "      box-shadow: 0px 1px 3px 1px rgba(0, 0, 0, 0.15);\n",
              "      filter: drop-shadow(0px 1px 2px rgba(0, 0, 0, 0.3));\n",
              "      fill: #FFFFFF;\n",
              "    }\n",
              "  </style>\n",
              "\n",
              "      <script>\n",
              "        const buttonEl =\n",
              "          document.querySelector('#df-cf9bf8c9-7a61-4476-9459-ab597fc8893b button.colab-df-convert');\n",
              "        buttonEl.style.display =\n",
              "          google.colab.kernel.accessAllowed ? 'block' : 'none';\n",
              "\n",
              "        async function convertToInteractive(key) {\n",
              "          const element = document.querySelector('#df-cf9bf8c9-7a61-4476-9459-ab597fc8893b');\n",
              "          const dataTable =\n",
              "            await google.colab.kernel.invokeFunction('convertToInteractive',\n",
              "                                                     [key], {});\n",
              "          if (!dataTable) return;\n",
              "\n",
              "          const docLinkHtml = 'Like what you see? Visit the ' +\n",
              "            '<a target=\"_blank\" href=https://colab.research.google.com/notebooks/data_table.ipynb>data table notebook</a>'\n",
              "            + ' to learn more about interactive tables.';\n",
              "          element.innerHTML = '';\n",
              "          dataTable['output_type'] = 'display_data';\n",
              "          await google.colab.output.renderOutput(dataTable, element);\n",
              "          const docLink = document.createElement('div');\n",
              "          docLink.innerHTML = docLinkHtml;\n",
              "          element.appendChild(docLink);\n",
              "        }\n",
              "      </script>\n",
              "    </div>\n",
              "  </div>\n",
              "  "
            ]
          },
          "metadata": {},
          "execution_count": 6
        }
      ],
      "source": [
        "data.Date = pd.to_datetime(data.Date, dayfirst = False) # đổi định dạng sang ngày cột Date \n",
        "data.set_index(\"Date\", inplace = True) # chuyển cột đếm -> cột ngày tháng\n",
        "data"
      ]
    },
    {
      "cell_type": "markdown",
      "metadata": {
        "id": "4mi3mK6LNcFj"
      },
      "source": [
        "# KIỂM TRA TÍNH DỪNG "
      ]
    },
    {
      "cell_type": "code",
      "execution_count": null,
      "metadata": {
        "colab": {
          "base_uri": "https://localhost:8080/"
        },
        "id": "iHxjlW9ueuS5",
        "outputId": "e62bbedb-5a76-471d-8c9d-7c0627cdff9a"
      },
      "outputs": [
        {
          "output_type": "stream",
          "name": "stdout",
          "text": [
            "BTC:\n",
            "\n",
            "ADF Statistic: -1.276189375455157\n",
            "n_lags: 0.6399940932177943\n",
            "p-value: 0.6399940932177943\n",
            "Critial Values:\n",
            "   1%, -3.434508723681996\n",
            "Critial Values:\n",
            "   5%, -2.863376828187341\n",
            "Critial Values:\n",
            "   10%, -2.567747894280675\n",
            "\n",
            "-----------------------------------\n",
            "\n",
            "DXY:\n",
            "\n",
            "ADF Statistic: -1.2570107002989093\n",
            "n_lags: 0.6486034677854909\n",
            "p-value: 0.6486034677854909\n",
            "Critial Values:\n",
            "   1%, -3.4344668334240493\n",
            "Critial Values:\n",
            "   5%, -2.8633583388041717\n",
            "Critial Values:\n",
            "   10%, -2.5677380487468597\n",
            "\n",
            "-----------------------------------\n",
            "\n",
            "Fear and Greed Index:\n",
            "\n",
            "ADF Statistic: -4.58494970440894\n",
            "n_lags: 0.0001376765747370012\n",
            "p-value: 0.0001376765747370012\n",
            "Critial Values:\n",
            "   1%, -3.434451341329522\n",
            "Critial Values:\n",
            "   5%, -2.863351500889469\n",
            "Critial Values:\n",
            "   10%, -2.567734407591096\n",
            "\n",
            "-----------------------------------\n",
            "\n"
          ]
        }
      ],
      "source": [
        "result = adfuller(data['BTC/USD'], autolag='AIC')\n",
        "print(\"BTC:\")\n",
        "print(\"\")\n",
        "print(f'ADF Statistic: {result[0]}')\n",
        "print(f'n_lags: {result[1]}')\n",
        "print(f'p-value: {result[1]}')\n",
        "for key, value in result[4].items():\n",
        "    print('Critial Values:')\n",
        "    print(f'   {key}, {value}')    \n",
        "\n",
        "print(\"\\n-----------------------------------\\n\")\n",
        "\n",
        "result = adfuller(data['DXY'], autolag='AIC')\n",
        "print(\"DXY:\")\n",
        "print(\"\")\n",
        "print(f'ADF Statistic: {result[0]}')\n",
        "print(f'n_lags: {result[1]}')\n",
        "print(f'p-value: {result[1]}')\n",
        "for key, value in result[4].items():\n",
        "    print('Critial Values:')\n",
        "    print(f'   {key}, {value}')    \n",
        "\n",
        "print(\"\\n-----------------------------------\\n\")\n",
        "\n",
        "result = adfuller(data['Fear and Greed Index'], autolag='AIC')\n",
        "print(\"Fear and Greed Index:\")\n",
        "print(\"\")\n",
        "print(f'ADF Statistic: {result[0]}')\n",
        "print(f'n_lags: {result[1]}')\n",
        "print(f'p-value: {result[1]}')\n",
        "for key, value in result[4].items():\n",
        "    print('Critial Values:')\n",
        "    print(f'   {key}, {value}')    \n",
        "\n",
        "print(\"\\n-----------------------------------\\n\")"
      ]
    },
    {
      "cell_type": "code",
      "execution_count": null,
      "metadata": {
        "colab": {
          "base_uri": "https://localhost:8080/",
          "height": 1000
        },
        "id": "PtfoG5IW-vbA",
        "outputId": "df4630ad-e7f9-46f9-80bc-ca98e1a787cc"
      },
      "outputs": [
        {
          "output_type": "stream",
          "name": "stderr",
          "text": [
            "No handles with labels found to put in legend.\n",
            "No handles with labels found to put in legend.\n",
            "No handles with labels found to put in legend.\n"
          ]
        },
        {
          "output_type": "execute_result",
          "data": {
            "text/plain": [
              "<matplotlib.legend.Legend at 0x7f3d86244e10>"
            ]
          },
          "metadata": {},
          "execution_count": 8
        },
        {
          "output_type": "display_data",
          "data": {
            "text/plain": [
              "<Figure size 1008x360 with 1 Axes>"
            ],
            "image/png": "[encoded data removed]"
          },
          "metadata": {
            "needs_background": "light"
          }
        },
        {
          "output_type": "display_data",
          "data": {
            "text/plain": [
              "<Figure size 1008x360 with 1 Axes>"
            ],
            "image/png": "[encoded data removed]"
          },
          "metadata": {
            "needs_background": "light"
          }
        },
        {
          "output_type": "display_data",
          "data": {
            "text/plain": [
              "<Figure size 1008x360 with 1 Axes>"
            ],
            "image/png": "[encoded data removed]"
          },
          "metadata": {
            "needs_background": "light"
          }
        }
      ],
      "source": [
        "plt.figure(figsize=(14,5))\n",
        "plt.plot(data.index[:],data['BTC/USD'])\n",
        "plt.ylabel('BTC/USD', fontsize=16)\n",
        "plt.xlabel('Days', fontsize=16)\n",
        "\n",
        "plt.legend()\n",
        "\n",
        "plt.figure(figsize=(14,5))\n",
        "plt.plot(data.index[:],data['DXY'],color = 'red')\n",
        "plt.ylabel('DXY', fontsize=16)\n",
        "plt.xlabel('Days', fontsize=16)\n",
        "plt.legend()\n",
        "\n",
        "plt.figure(figsize=(14,5))\n",
        "plt.plot(data.index[:],data['Fear and Greed Index'],color = 'orange')\n",
        "plt.ylabel('Fear and Greed Index', fontsize=16)\n",
        "plt.xlabel('Days', fontsize=16)\n",
        "plt.legend()"
      ]
    },
    {
      "cell_type": "markdown",
      "metadata": {
        "id": "R_AScbnje3lK"
      },
      "source": [
        "# KIỂM TRA TÁC ĐỘNG GIỮA CÁC CHUỖI THỜI GIAN "
      ]
    },
    {
      "cell_type": "code",
      "execution_count": null,
      "metadata": {
        "colab": {
          "base_uri": "https://localhost:8080/"
        },
        "id": "KbNd2kDCPSj2",
        "outputId": "9172e4cf-719f-4ab0-e99b-51486816eff6"
      },
      "outputs": [
        {
          "output_type": "stream",
          "name": "stdout",
          "text": [
            "\n",
            "BTC/USD causes DXY?\n",
            "------------------\n",
            "\n",
            "Granger Causality\n",
            "number of lags (no zero) 1\n",
            "ssr based F test:         F=5.4931  , p=0.0192  , df_denom=1596, df_num=1\n",
            "ssr based chi2 test:   chi2=5.5034  , p=0.0190  , df=1\n",
            "likelihood ratio test: chi2=5.4939  , p=0.0191  , df=1\n",
            "parameter F test:         F=5.4931  , p=0.0192  , df_denom=1596, df_num=1\n",
            "\n",
            "DXY causes BTC/USD?\n",
            "------------------\n",
            "\n",
            "Granger Causality\n",
            "number of lags (no zero) 1\n",
            "ssr based F test:         F=0.8783  , p=0.3488  , df_denom=1596, df_num=1\n",
            "ssr based chi2 test:   chi2=0.8799  , p=0.3482  , df=1\n",
            "likelihood ratio test: chi2=0.8797  , p=0.3483  , df=1\n",
            "parameter F test:         F=0.8783  , p=0.3488  , df_denom=1596, df_num=1\n",
            "\n",
            "BTC/USD causes Fear and Greed Index?\n",
            "------------------\n",
            "\n",
            "Granger Causality\n",
            "number of lags (no zero) 1\n",
            "ssr based F test:         F=5.3762  , p=0.0205  , df_denom=1596, df_num=1\n",
            "ssr based chi2 test:   chi2=5.3864  , p=0.0203  , df=1\n",
            "likelihood ratio test: chi2=5.3773  , p=0.0204  , df=1\n",
            "parameter F test:         F=5.3762  , p=0.0205  , df_denom=1596, df_num=1\n",
            "\n",
            "Fear and Greed Index causes BTC/USD?\n",
            "------------------\n",
            "\n",
            "Granger Causality\n",
            "number of lags (no zero) 1\n",
            "ssr based F test:         F=1.4219  , p=0.2333  , df_denom=1596, df_num=1\n",
            "ssr based chi2 test:   chi2=1.4246  , p=0.2326  , df=1\n",
            "likelihood ratio test: chi2=1.4240  , p=0.2327  , df=1\n",
            "parameter F test:         F=1.4219  , p=0.2333  , df_denom=1596, df_num=1\n"
          ]
        }
      ],
      "source": [
        "print('\\nBTC/USD causes DXY?')\n",
        "print('------------------')\n",
        "granger_1 = grangercausalitytests(data[['BTC/USD', 'DXY']], maxlag = 1)\n",
        "\n",
        "print('\\nDXY causes BTC/USD?')\n",
        "print('------------------')\n",
        "granger_2 = grangercausalitytests(data[['DXY', 'BTC/USD']], maxlag = 1)\n",
        "\n",
        "print('\\nBTC/USD causes Fear and Greed Index?')\n",
        "print('------------------')\n",
        "granger_1 = grangercausalitytests(data[['BTC/USD', 'Fear and Greed Index']], maxlag = 1)\n",
        "\n",
        "print('\\nFear and Greed Index causes BTC/USD?')\n",
        "print('------------------')\n",
        "granger_2 = grangercausalitytests(data[['Fear and Greed Index', 'BTC/USD']], maxlag = 1)\n"
      ]
    },
    {
      "cell_type": "markdown",
      "metadata": {
        "id": "ZfMiHE1rJKhJ"
      },
      "source": [
        "# TẠO INPUT - OUTPUT "
      ]
    },
    {
      "cell_type": "code",
      "execution_count": null,
      "metadata": {
        "id": "mV5fUjD4KShu"
      },
      "outputs": [],
      "source": [
        "data_input_output = np.array(data)"
      ]
    },
    {
      "cell_type": "markdown",
      "metadata": {
        "id": "qDU8Z5neJWkk"
      },
      "source": [
        "## Input: Chỉ dùng chỉ số giá BTC trong quá khứ"
      ]
    },
    {
      "cell_type": "markdown",
      "metadata": {
        "id": "A9FuIKSXJuuJ"
      },
      "source": [
        "Output: Giá BTC trong 3 ngày kế tiếp"
      ]
    },
    {
      "cell_type": "code",
      "execution_count": null,
      "metadata": {
        "id": "Qnve4T3rKdIG"
      },
      "outputs": [],
      "source": [
        "X_1_3days = []\n",
        "Y_1_3days = []\n",
        "\n",
        "n_future = 3 \n",
        "n_past = 30 \n",
        "\n",
        "for i in range(n_past, len(data_input_output) - n_future + 1):\n",
        "  X_1_3days.append(data_input_output[i - n_past:i, 0:1])\n",
        "  Y_1_3days.append(data_input_output[i : i + n_future, 0:1])\n",
        "\n",
        "X_1_3days, Y_1_3days = np.array(X_1_3days), np.array(Y_1_3days)\n",
        "\n",
        "size_train = int(len(data)*0.80)\n",
        "X_train_1_3days = X_1_3days[:size_train] \n",
        "X_test_1_3days = X_1_3days[size_train:]\n",
        "y_train_1_3days = Y_1_3days[:size_train] \n",
        "y_test_1_3days = Y_1_3days[size_train:]\n",
        "\n",
        "y_test_1_3days = y_test_1_3days.reshape(len(y_test_1_3days),n_future)\n",
        "y_train_1_3days = y_train_1_3days.reshape(len(y_train_1_3days),n_future)"
      ]
    },
    {
      "cell_type": "markdown",
      "metadata": {
        "id": "MjiVD8R2J0Xt"
      },
      "source": [
        "Output: Giá BTC trong 7 ngày kế tiếp "
      ]
    },
    {
      "cell_type": "code",
      "execution_count": null,
      "metadata": {
        "id": "TbnM4RXmLaX_"
      },
      "outputs": [],
      "source": [
        "X_1_7days = []\n",
        "Y_1_7days = []\n",
        "\n",
        "n_future = 7 \n",
        "n_past = 30 \n",
        "\n",
        "for i in range(n_past, len(data_input_output) - n_future + 1):\n",
        "  X_1_7days.append(data_input_output[i - n_past:i, 0:1])\n",
        "  Y_1_7days.append(data_input_output[i : i + n_future, 0:1])\n",
        "\n",
        "X_1_7days, Y_1_7days = np.array(X_1_7days), np.array(Y_1_7days)\n",
        "\n",
        "size_train = int(len(data)*0.80)\n",
        "X_train_1_7days = X_1_7days[:size_train] \n",
        "X_test_1_7days = X_1_7days[size_train:]\n",
        "y_train_1_7days = Y_1_7days[:size_train] \n",
        "y_test_1_7days = Y_1_7days[size_train:]\n",
        "\n",
        "y_test_1_7days = y_test_1_7days.reshape(len(y_test_1_7days),n_future)\n",
        "y_train_1_7days = y_train_1_7days.reshape(len(y_train_1_7days),n_future)"
      ]
    },
    {
      "cell_type": "markdown",
      "metadata": {
        "id": "WMo7tvAfJ4vt"
      },
      "source": [
        "Output: Giá BTC trong 14 ngày kế tiếp"
      ]
    },
    {
      "cell_type": "code",
      "execution_count": null,
      "metadata": {
        "id": "Qf1bBFGnLcGK"
      },
      "outputs": [],
      "source": [
        "X_1_14days = []\n",
        "Y_1_14days = []\n",
        "\n",
        "n_future = 14 \n",
        "n_past = 30 \n",
        "\n",
        "for i in range(n_past, len(data_input_output) - n_future + 1):\n",
        "  X_1_14days.append(data_input_output[i - n_past:i, 0:1])\n",
        "  Y_1_14days.append(data_input_output[i : i + n_future, 0:1])\n",
        "\n",
        "X_1_14days, Y_1_14days = np.array(X_1_14days), np.array(Y_1_14days)\n",
        "\n",
        "size_train = int(len(data)*0.80)\n",
        "X_train_1_14days = X_1_14days[:size_train] \n",
        "X_test_1_14days = X_1_14days[size_train:]\n",
        "y_train_1_14days = Y_1_14days[:size_train] \n",
        "y_test_1_14days = Y_1_14days[size_train:]\n",
        "\n",
        "y_test_1_14days = y_test_1_14days.reshape(len(y_test_1_14days),n_future)\n",
        "y_train_1_14days = y_train_1_14days.reshape(len(y_train_1_14days),n_future)"
      ]
    },
    {
      "cell_type": "markdown",
      "metadata": {
        "id": "uhAmOCVNJkzf"
      },
      "source": [
        "## Input: Dùng chỉ số giá BTC, DXY, Fear and Greed Index"
      ]
    },
    {
      "cell_type": "markdown",
      "metadata": {
        "id": "sC6bqyecJ-mY"
      },
      "source": [
        "Output: Giá BTC trong 3 ngày kế tiếp"
      ]
    },
    {
      "cell_type": "code",
      "execution_count": null,
      "metadata": {
        "id": "cSywoxnrLxh3"
      },
      "outputs": [],
      "source": [
        "X_3_3days = []\n",
        "Y_3_3days = []\n",
        "\n",
        "n_future = 3 \n",
        "n_past = 30 \n",
        "\n",
        "for i in range(n_past, len(data_input_output) - n_future + 1):\n",
        "  X_3_3days.append(data_input_output[i - n_past:i, 0:3])\n",
        "  Y_3_3days.append(data_input_output[i : i + n_future, 0:1])\n",
        "\n",
        "X_3_3days, Y_3_3days = np.array(X_3_3days), np.array(Y_3_3days)\n",
        "\n",
        "size_train = int(len(data)*0.80)\n",
        "X_train_3_3days = X_3_3days[:size_train] \n",
        "X_test_3_3days = X_3_3days[size_train:]\n",
        "y_train_3_3days = Y_3_3days[:size_train] \n",
        "y_test_3_3days = Y_3_3days[size_train:]\n",
        "\n",
        "y_test_3_3days = y_test_3_3days.reshape(len(y_test_3_3days),n_future)\n",
        "y_train_3_3days = y_train_3_3days.reshape(len(y_train_3_3days),n_future)"
      ]
    },
    {
      "cell_type": "markdown",
      "metadata": {
        "id": "wiIGroAFKBgN"
      },
      "source": [
        "Output: Giá BTC trong 7 ngày kế tiếp "
      ]
    },
    {
      "cell_type": "code",
      "execution_count": null,
      "metadata": {
        "id": "Nxg9zycnL4zx"
      },
      "outputs": [],
      "source": [
        "X_3_7days = []\n",
        "Y_3_7days = []\n",
        "\n",
        "n_future = 7 \n",
        "n_past = 30 \n",
        "\n",
        "for i in range(n_past, len(data_input_output) - n_future + 1):\n",
        "  X_3_7days.append(data_input_output[i - n_past:i, 0:3])\n",
        "  Y_3_7days.append(data_input_output[i : i + n_future, 0:1])\n",
        "\n",
        "X_3_7days, Y_3_7days = np.array(X_3_7days), np.array(Y_3_7days)\n",
        "\n",
        "size_train = int(len(data)*0.80)\n",
        "X_train_3_7days = X_3_7days[:size_train] \n",
        "X_test_3_7days = X_3_7days[size_train:]\n",
        "y_train_3_7days = Y_3_7days[:size_train] \n",
        "y_test_3_7days = Y_3_7days[size_train:]\n",
        "\n",
        "y_test_3_7days = y_test_3_7days.reshape(len(y_test_3_7days),n_future)\n",
        "y_train_3_7days = y_train_3_7days.reshape(len(y_train_3_7days),n_future)"
      ]
    },
    {
      "cell_type": "markdown",
      "metadata": {
        "id": "QIYr_rr-KCzc"
      },
      "source": [
        "Output: Giá BTC trong 14 ngày kế tiếp"
      ]
    },
    {
      "cell_type": "code",
      "execution_count": null,
      "metadata": {
        "id": "q8m5AmPnMBZN"
      },
      "outputs": [],
      "source": [
        "X_3_14days = []\n",
        "Y_3_14days = []\n",
        "\n",
        "n_future = 14 \n",
        "n_past = 30 \n",
        "\n",
        "for i in range(n_past, len(data_input_output) - n_future + 1):\n",
        "  X_3_14days.append(data_input_output[i - n_past:i, 0:3])\n",
        "  Y_3_14days.append(data_input_output[i : i + n_future, 0:1])\n",
        "\n",
        "X_3_14days, Y_3_14days = np.array(X_3_14days), np.array(Y_3_14days)\n",
        "\n",
        "size_train = int(len(data)*0.80)\n",
        "X_train_3_14days = X_3_14days[:size_train] \n",
        "X_test_3_14days = X_3_14days[size_train:]\n",
        "y_train_3_14days = Y_3_14days[:size_train] \n",
        "y_test_3_14days = Y_3_14days[size_train:]\n",
        "\n",
        "y_test_3_14days = y_test_3_14days.reshape(len(y_test_3_14days),n_future)\n",
        "y_train_3_14days = y_train_3_14days.reshape(len(y_train_3_14days),n_future)"
      ]
    },
    {
      "cell_type": "markdown",
      "metadata": {
        "id": "vZXqDLJ5tjUG"
      },
      "source": [
        "# MÔ HÌNH LSTM"
      ]
    },
    {
      "cell_type": "code",
      "execution_count": null,
      "metadata": {
        "colab": {
          "base_uri": "https://localhost:8080/"
        },
        "id": "I4gC_z4X_hc9",
        "outputId": "4a212055-b75f-4ac3-f338-aa9cb3b64f26"
      },
      "outputs": [
        {
          "output_type": "stream",
          "name": "stdout",
          "text": [
            "Epoch 1/10\n",
            "1152/1152 [==============================] - 21s 16ms/step - loss: 146764352.0000 - val_loss: 314624608.0000\n",
            "Epoch 2/10\n",
            "1152/1152 [==============================] - 14s 12ms/step - loss: 186895312.0000 - val_loss: 148975136.0000\n",
            "Epoch 3/10\n",
            "1152/1152 [==============================] - 13s 12ms/step - loss: 84363776.0000 - val_loss: 2414389248.0000\n",
            "Epoch 4/10\n",
            "1152/1152 [==============================] - 14s 12ms/step - loss: 35001688.0000 - val_loss: 115967576.0000\n",
            "Epoch 5/10\n",
            "1152/1152 [==============================] - 14s 12ms/step - loss: 32936728.0000 - val_loss: 195817680.0000\n",
            "Epoch 6/10\n",
            "1152/1152 [==============================] - 14s 12ms/step - loss: 21285808.0000 - val_loss: 154042848.0000\n",
            "Epoch 7/10\n",
            "1152/1152 [==============================] - 14s 12ms/step - loss: 13977428.0000 - val_loss: 122727184.0000\n",
            "Epoch 8/10\n",
            "1152/1152 [==============================] - 13s 12ms/step - loss: 11908253.0000 - val_loss: 87598552.0000\n",
            "Epoch 9/10\n",
            "1152/1152 [==============================] - 13s 12ms/step - loss: 17855168.0000 - val_loss: 107787072.0000\n",
            "Epoch 10/10\n",
            "1152/1152 [==============================] - 14s 12ms/step - loss: 60800020.0000 - val_loss: 69012744.0000\n"
          ]
        }
      ],
      "source": [
        "model_LSTM_1_3days = Sequential()\n",
        "model_LSTM_1_3days.add(LSTM(64, activation='relu', input_shape=(X_train_1_3days.shape[1], X_train_1_3days.shape[2]), return_sequences=True))\n",
        "model_LSTM_1_3days.add(LSTM(32, activation='relu', return_sequences=False))\n",
        "model_LSTM_1_3days.add(Dropout(0.02))\n",
        "model_LSTM_1_3days.add(Dense(25))\n",
        "model_LSTM_1_3days.add(Dense(y_train_1_3days.shape[1]))\n",
        "model_LSTM_1_3days.compile(optimizer = 'adam', loss = 'mean_squared_error')\n",
        "model_LSTM_1_3days.fit(X_train_1_3days,y_train_1_3days, epochs=10, batch_size=1, validation_split=0.1, verbose=1)\n",
        "# Dự đoán trên tập test bằng mô hình LSTM \n",
        "y_pred_test_LSTM_1_3days = model_LSTM_1_3days.predict(X_test_1_3days)"
      ]
    },
    {
      "cell_type": "code",
      "execution_count": null,
      "metadata": {
        "colab": {
          "base_uri": "https://localhost:8080/"
        },
        "id": "l1iRuvy6fMSn",
        "outputId": "54c42590-2c13-40c7-99f7-31876ac53911"
      },
      "outputs": [
        {
          "output_type": "stream",
          "name": "stdout",
          "text": [
            "Epoch 1/10\n",
            "1152/1152 [==============================] - 16s 12ms/step - loss: 194492432.0000 - val_loss: 786807680.0000\n",
            "Epoch 2/10\n",
            "1152/1152 [==============================] - 14s 12ms/step - loss: 55151512.0000 - val_loss: 305072000.0000\n",
            "Epoch 3/10\n",
            "1152/1152 [==============================] - 14s 12ms/step - loss: 39187980.0000 - val_loss: 446218912.0000\n",
            "Epoch 4/10\n",
            "1152/1152 [==============================] - 13s 12ms/step - loss: 79218312.0000 - val_loss: 83537784.0000\n",
            "Epoch 5/10\n",
            "1152/1152 [==============================] - 13s 12ms/step - loss: 20191476.0000 - val_loss: 105083000.0000\n",
            "Epoch 6/10\n",
            "1152/1152 [==============================] - 13s 12ms/step - loss: 20392454.0000 - val_loss: 266212832.0000\n",
            "Epoch 7/10\n",
            "1152/1152 [==============================] - 14s 12ms/step - loss: 17321286.0000 - val_loss: 179715136.0000\n",
            "Epoch 8/10\n",
            "1152/1152 [==============================] - 14s 12ms/step - loss: 21512354.0000 - val_loss: 188859936.0000\n",
            "Epoch 9/10\n",
            "1152/1152 [==============================] - 14s 12ms/step - loss: 30517984.0000 - val_loss: 129867552.0000\n",
            "Epoch 10/10\n",
            "1152/1152 [==============================] - 14s 12ms/step - loss: 16825454.0000 - val_loss: 162982960.0000\n"
          ]
        }
      ],
      "source": [
        "model_LSTM_1_7days = Sequential()\n",
        "model_LSTM_1_7days.add(LSTM(64, activation='relu', input_shape=(X_train_1_7days.shape[1], X_train_1_7days.shape[2]), return_sequences=True))\n",
        "model_LSTM_1_7days.add(LSTM(32, activation='relu', return_sequences=False))\n",
        "model_LSTM_1_7days.add(Dropout(0.02))\n",
        "model_LSTM_1_7days.add(Dense(25))\n",
        "model_LSTM_1_7days.add(Dense(y_train_1_7days.shape[1]))\n",
        "model_LSTM_1_7days.compile(optimizer = 'adam', loss = 'mean_squared_error')\n",
        "model_LSTM_1_7days.fit(X_train_1_7days,y_train_1_7days, epochs=10, batch_size=1, validation_split=0.1, verbose=1)\n",
        "# Dự đoán trên tập test bằng mô hình LSTM \n",
        "y_pred_test_LSTM_1_7days = model_LSTM_1_7days.predict(X_test_1_7days)"
      ]
    },
    {
      "cell_type": "code",
      "execution_count": null,
      "metadata": {
        "id": "KLduzez_fQ_B",
        "colab": {
          "base_uri": "https://localhost:8080/"
        },
        "outputId": "3ef70d16-4e42-467f-c457-277190e13576"
      },
      "outputs": [
        {
          "output_type": "stream",
          "name": "stdout",
          "text": [
            "Epoch 1/10\n",
            "1152/1152 [==============================] - 15s 12ms/step - loss: 175552960.0000 - val_loss: 177950800.0000\n",
            "Epoch 2/10\n",
            "1152/1152 [==============================] - 13s 12ms/step - loss: 32170504.0000 - val_loss: 918373696.0000\n",
            "Epoch 3/10\n",
            "1152/1152 [==============================] - 13s 12ms/step - loss: 27644070.0000 - val_loss: 97554544.0000\n",
            "Epoch 4/10\n",
            "1152/1152 [==============================] - 13s 12ms/step - loss: 13474112.0000 - val_loss: 106950664.0000\n",
            "Epoch 5/10\n",
            "1152/1152 [==============================] - 15s 13ms/step - loss: 12304723.0000 - val_loss: 114029632.0000\n",
            "Epoch 6/10\n",
            "1152/1152 [==============================] - 14s 12ms/step - loss: 13058772.0000 - val_loss: 105989680.0000\n",
            "Epoch 7/10\n",
            "1152/1152 [==============================] - 13s 12ms/step - loss: 17056858.0000 - val_loss: 175925120.0000\n",
            "Epoch 8/10\n",
            "1152/1152 [==============================] - 13s 11ms/step - loss: 10772140.0000 - val_loss: 75257144.0000\n",
            "Epoch 9/10\n",
            "1152/1152 [==============================] - 13s 12ms/step - loss: 9396108.0000 - val_loss: 85902144.0000\n",
            "Epoch 10/10\n",
            "1152/1152 [==============================] - 14s 12ms/step - loss: 17802212.0000 - val_loss: 109237896.0000\n"
          ]
        }
      ],
      "source": [
        "model_LSTM_1_14days = Sequential()\n",
        "model_LSTM_1_14days.add(LSTM(64, activation='relu', input_shape=(X_train_1_14days.shape[1], X_train_1_14days.shape[2]), return_sequences=True))\n",
        "model_LSTM_1_14days.add(LSTM(32, activation='relu', return_sequences=False))\n",
        "model_LSTM_1_14days.add(Dropout(0.02))\n",
        "model_LSTM_1_14days.add(Dense(25))\n",
        "model_LSTM_1_14days.add(Dense(y_train_1_14days.shape[1]))\n",
        "model_LSTM_1_14days.compile(optimizer = 'adam', loss = 'mean_squared_error')\n",
        "model_LSTM_1_14days.fit(X_train_1_14days,y_train_1_14days, epochs=10, batch_size=1, validation_split=0.1, verbose=1)\n",
        "# Dự đoán trên tập test bằng mô hình LSTM \n",
        "y_pred_test_LSTM_1_14days = model_LSTM_1_14days.predict(X_test_1_14days)"
      ]
    },
    {
      "cell_type": "code",
      "execution_count": null,
      "metadata": {
        "id": "ltReDgw1fU32",
        "colab": {
          "base_uri": "https://localhost:8080/"
        },
        "outputId": "678e05fc-15e2-4eb0-d3f9-6dd6bd4026ca"
      },
      "outputs": [
        {
          "output_type": "stream",
          "name": "stdout",
          "text": [
            "Epoch 1/15\n",
            "1152/1152 [==============================] - 15s 12ms/step - loss: 304681984.0000 - val_loss: 104590792.0000\n",
            "Epoch 2/15\n",
            "1152/1152 [==============================] - 14s 12ms/step - loss: 138159360.0000 - val_loss: 712456768.0000\n",
            "Epoch 3/15\n",
            "1152/1152 [==============================] - 13s 12ms/step - loss: 69531872.0000 - val_loss: 265527872.0000\n",
            "Epoch 4/15\n",
            "1152/1152 [==============================] - 14s 12ms/step - loss: 28800482.0000 - val_loss: 290709472.0000\n",
            "Epoch 5/15\n",
            "1152/1152 [==============================] - 14s 12ms/step - loss: 75040864.0000 - val_loss: 63077572.0000\n",
            "Epoch 6/15\n",
            "1152/1152 [==============================] - 14s 12ms/step - loss: 10060161.0000 - val_loss: 94656224.0000\n",
            "Epoch 7/15\n",
            "1152/1152 [==============================] - 14s 12ms/step - loss: 10193467.0000 - val_loss: 63988256.0000\n",
            "Epoch 8/15\n",
            "1152/1152 [==============================] - 14s 12ms/step - loss: 7947941.5000 - val_loss: 23629902.0000\n",
            "Epoch 9/15\n",
            "1152/1152 [==============================] - 14s 12ms/step - loss: 7690010.5000 - val_loss: 34250396.0000\n",
            "Epoch 10/15\n",
            "1152/1152 [==============================] - 13s 12ms/step - loss: 12939495.0000 - val_loss: 94599368.0000\n",
            "Epoch 11/15\n",
            "1152/1152 [==============================] - 13s 12ms/step - loss: 13678122.0000 - val_loss: 70710720.0000\n",
            "Epoch 12/15\n",
            "1152/1152 [==============================] - 14s 12ms/step - loss: 13368912.0000 - val_loss: 39424604.0000\n",
            "Epoch 13/15\n",
            "1152/1152 [==============================] - 14s 12ms/step - loss: 17215618.0000 - val_loss: 172579760.0000\n",
            "Epoch 14/15\n",
            "1152/1152 [==============================] - 13s 12ms/step - loss: 8841427.0000 - val_loss: 41569684.0000\n",
            "Epoch 15/15\n",
            "1152/1152 [==============================] - 13s 12ms/step - loss: 6618351.0000 - val_loss: 30221844.0000\n"
          ]
        }
      ],
      "source": [
        "model_LSTM_3_3days = Sequential()\n",
        "model_LSTM_3_3days.add(LSTM(64, activation='relu', input_shape=(X_train_3_3days.shape[1], X_train_3_3days.shape[2]), return_sequences=True))\n",
        "model_LSTM_3_3days.add(LSTM(32, activation='relu', return_sequences=False))\n",
        "model_LSTM_3_3days.add(Dropout(0.02))\n",
        "model_LSTM_3_3days.add(Dense(25))\n",
        "model_LSTM_3_3days.add(Dense(y_train_3_3days.shape[1]))\n",
        "model_LSTM_3_3days.compile(optimizer = 'adam', loss = 'mean_squared_error')\n",
        "model_LSTM_3_3days.fit(X_train_3_3days,y_train_3_3days, epochs=15, batch_size=1, validation_split=0.1, verbose=1)\n",
        "# Dự đoán trên tập test bằng mô hình LSTM \n",
        "y_pred_test_LSTM_3_3days = model_LSTM_3_3days.predict(X_test_3_3days)"
      ]
    },
    {
      "cell_type": "code",
      "execution_count": null,
      "metadata": {
        "id": "fr7YE66HfXwl",
        "colab": {
          "base_uri": "https://localhost:8080/"
        },
        "outputId": "ddca04a5-0c48-4f54-f819-e9ddb196993c"
      },
      "outputs": [
        {
          "output_type": "stream",
          "name": "stdout",
          "text": [
            "Epoch 1/15\n",
            "1152/1152 [==============================] - 16s 12ms/step - loss: 78826720.0000 - val_loss: 74513472.0000\n",
            "Epoch 2/15\n",
            "1152/1152 [==============================] - 13s 12ms/step - loss: 14242871.0000 - val_loss: 88716248.0000\n",
            "Epoch 3/15\n",
            "1152/1152 [==============================] - 13s 12ms/step - loss: 14290872.0000 - val_loss: 80385112.0000\n",
            "Epoch 4/15\n",
            "1152/1152 [==============================] - 13s 12ms/step - loss: 12136042.0000 - val_loss: 60469844.0000\n",
            "Epoch 5/15\n",
            "1152/1152 [==============================] - 14s 12ms/step - loss: 14551686.0000 - val_loss: 192628144.0000\n",
            "Epoch 6/15\n",
            "1152/1152 [==============================] - 14s 12ms/step - loss: 15614091.0000 - val_loss: 58891848.0000\n",
            "Epoch 7/15\n",
            "1152/1152 [==============================] - 14s 12ms/step - loss: 10879836.0000 - val_loss: 75254048.0000\n",
            "Epoch 8/15\n",
            "1152/1152 [==============================] - 14s 12ms/step - loss: 14650407.0000 - val_loss: 93790432.0000\n",
            "Epoch 9/15\n",
            "1152/1152 [==============================] - 14s 12ms/step - loss: 12445200.0000 - val_loss: 59815968.0000\n",
            "Epoch 10/15\n",
            "1152/1152 [==============================] - 14s 12ms/step - loss: 10248388.0000 - val_loss: 141627072.0000\n",
            "Epoch 11/15\n",
            "1152/1152 [==============================] - 14s 12ms/step - loss: 12402475.0000 - val_loss: 45914980.0000\n",
            "Epoch 12/15\n",
            "1152/1152 [==============================] - 14s 12ms/step - loss: 11314501.0000 - val_loss: 47475472.0000\n",
            "Epoch 13/15\n",
            "1152/1152 [==============================] - 14s 12ms/step - loss: 9011469.0000 - val_loss: 53300848.0000\n",
            "Epoch 14/15\n",
            "1152/1152 [==============================] - 13s 12ms/step - loss: 11960564.0000 - val_loss: 178598640.0000\n",
            "Epoch 15/15\n",
            "1152/1152 [==============================] - 15s 13ms/step - loss: 19464408.0000 - val_loss: 69821304.0000\n"
          ]
        }
      ],
      "source": [
        "model_LSTM_3_7days = Sequential()\n",
        "model_LSTM_3_7days.add(LSTM(64, activation='relu', input_shape=(X_train_3_7days.shape[1], X_train_3_7days.shape[2]), return_sequences=True))\n",
        "model_LSTM_3_7days.add(LSTM(32, activation='relu', return_sequences=False))\n",
        "model_LSTM_3_7days.add(Dropout(0.02))\n",
        "model_LSTM_3_7days.add(Dense(25))\n",
        "model_LSTM_3_7days.add(Dense(y_train_3_7days.shape[1]))\n",
        "model_LSTM_3_7days.compile(optimizer = 'adam', loss = 'mean_squared_error')\n",
        "model_LSTM_3_7days.fit(X_train_3_7days,y_train_3_7days, epochs=15, batch_size=1, validation_split=0.1, verbose=1)\n",
        "# Dự đoán trên tập test bằng mô hình LSTM \n",
        "y_pred_test_LSTM_3_7days = model_LSTM_3_7days.predict(X_test_3_7days)"
      ]
    },
    {
      "cell_type": "code",
      "execution_count": null,
      "metadata": {
        "id": "YSMr5JM-fZP3",
        "colab": {
          "base_uri": "https://localhost:8080/"
        },
        "outputId": "423a9ce8-edfc-4212-d693-9048907a176f"
      },
      "outputs": [
        {
          "output_type": "stream",
          "name": "stdout",
          "text": [
            "Epoch 1/15\n",
            "1152/1152 [==============================] - 15s 12ms/step - loss: 251136576.0000 - val_loss: 449863808.0000\n",
            "Epoch 2/15\n",
            "1152/1152 [==============================] - 14s 12ms/step - loss: 109683184.0000 - val_loss: 233377488.0000\n",
            "Epoch 3/15\n",
            "1152/1152 [==============================] - 13s 12ms/step - loss: 14656380.0000 - val_loss: 107774144.0000\n",
            "Epoch 4/15\n",
            "1152/1152 [==============================] - 13s 12ms/step - loss: 54236396.0000 - val_loss: 185625008.0000\n",
            "Epoch 5/15\n",
            "1152/1152 [==============================] - 13s 12ms/step - loss: 22671002.0000 - val_loss: 156957280.0000\n",
            "Epoch 6/15\n",
            "1152/1152 [==============================] - 13s 12ms/step - loss: 18097660.0000 - val_loss: 98062728.0000\n",
            "Epoch 7/15\n",
            "1152/1152 [==============================] - 14s 12ms/step - loss: 16059650.0000 - val_loss: 343275488.0000\n",
            "Epoch 8/15\n",
            "1152/1152 [==============================] - 14s 12ms/step - loss: 59354664.0000 - val_loss: 174053184.0000\n",
            "Epoch 9/15\n",
            "1152/1152 [==============================] - 13s 12ms/step - loss: 31792840.0000 - val_loss: 223763760.0000\n",
            "Epoch 10/15\n",
            "1152/1152 [==============================] - 14s 12ms/step - loss: 15442992.0000 - val_loss: 128668192.0000\n",
            "Epoch 11/15\n",
            "1152/1152 [==============================] - 13s 11ms/step - loss: 41089056.0000 - val_loss: 435808224.0000\n",
            "Epoch 12/15\n",
            "1152/1152 [==============================] - 13s 12ms/step - loss: 43293040.0000 - val_loss: 390954944.0000\n",
            "Epoch 13/15\n",
            "1152/1152 [==============================] - 14s 12ms/step - loss: 26984624.0000 - val_loss: 145917136.0000\n",
            "Epoch 14/15\n",
            "1152/1152 [==============================] - 13s 12ms/step - loss: 23389726.0000 - val_loss: 124724992.0000\n",
            "Epoch 15/15\n",
            "1152/1152 [==============================] - 13s 12ms/step - loss: 19803688.0000 - val_loss: 138771488.0000\n"
          ]
        }
      ],
      "source": [
        "model_LSTM_3_14days = Sequential()\n",
        "model_LSTM_3_14days.add(LSTM(64, activation='relu', input_shape=(X_train_3_14days.shape[1], X_train_3_14days.shape[2]), return_sequences=True))\n",
        "model_LSTM_3_14days.add(LSTM(32, activation='relu', return_sequences=False))\n",
        "model_LSTM_3_14days.add(Dropout(0.02))\n",
        "model_LSTM_3_14days.add(Dense(25))\n",
        "model_LSTM_3_14days.add(Dense(y_train_3_14days.shape[1]))\n",
        "model_LSTM_3_14days.compile(optimizer = 'adam', loss = 'mean_squared_error')\n",
        "model_LSTM_3_14days.fit(X_train_3_14days,y_train_3_14days, epochs=15, batch_size=1, validation_split=0.1, verbose=1)\n",
        "# Dự đoán trên tập test bằng mô hình LSTM \n",
        "y_pred_test_LSTM_3_14days = model_LSTM_3_14days.predict(X_test_3_14days)"
      ]
    },
    {
      "cell_type": "code",
      "execution_count": null,
      "metadata": {
        "id": "MpPHUhbDxE7s",
        "colab": {
          "base_uri": "https://localhost:8080/"
        },
        "outputId": "1628a547-5c24-43a6-8cd6-f5b800b409de"
      },
      "outputs": [
        {
          "output_type": "stream",
          "name": "stdout",
          "text": [
            "LSTM - 1 - 3days\n",
            "MSE  : 42511900.95569266\n",
            "MAE  : 5504.633682725696\n",
            "MAPE : 13.683648852410036\n",
            "\n",
            "LSTM - 1 - 7days\n",
            "MSE  : 84307364.66141309\n",
            "MAE  : 7488.822204044582\n",
            "MAPE : 18.078746450099008\n",
            "\n",
            "LSTM - 1 - 14days\n",
            "MSE  : 73058859.38150683\n",
            "MAE  : 6402.595334025676\n",
            "MAPE : 15.025083067484138\n",
            "\n",
            "LSTM - 3 - 3days\n",
            "MSE  : 17820452.857461475\n",
            "MAE  : 3404.084194155092\n",
            "MAPE : 8.381001170319458\n",
            "\n",
            "LSTM - 3 - 7days\n",
            "MSE  : 36440689.52672639\n",
            "MAE  : 5166.873146181781\n",
            "MAPE : 12.758948519053606\n",
            "\n",
            "LSTM - 3 - 14days\n",
            "MSE  : 85108256.2328191\n",
            "MAE  : 7706.636038530656\n",
            "MAPE : 18.573857576124254\n"
          ]
        }
      ],
      "source": [
        "print(\"LSTM - 1 - 3days\")\n",
        "print(\"MSE  : \" + str(mean_squared_error(y_test_1_3days, y_pred_test_LSTM_1_3days)))\n",
        "print(\"MAE  : \" + str(mean_absolute_error(y_test_1_3days, y_pred_test_LSTM_1_3days)))\n",
        "print(\"MAPE : \" + str(mean_absolute_percentage_error(y_test_1_3days, y_pred_test_LSTM_1_3days)*100))\n",
        "print(\"\")\n",
        "print(\"LSTM - 1 - 7days\")\n",
        "print(\"MSE  : \" + str(mean_squared_error(y_test_1_7days, y_pred_test_LSTM_1_7days)))\n",
        "print(\"MAE  : \" + str(mean_absolute_error(y_test_1_7days, y_pred_test_LSTM_1_7days)))\n",
        "print(\"MAPE : \" + str(mean_absolute_percentage_error(y_test_1_7days, y_pred_test_LSTM_1_7days)*100))\n",
        "print(\"\")\n",
        "print(\"LSTM - 1 - 14days\")\n",
        "print(\"MSE  : \" + str(mean_squared_error(y_test_1_14days, y_pred_test_LSTM_1_14days)))\n",
        "print(\"MAE  : \" + str(mean_absolute_error(y_test_1_14days, y_pred_test_LSTM_1_14days)))\n",
        "print(\"MAPE : \" + str(mean_absolute_percentage_error(y_test_1_14days, y_pred_test_LSTM_1_14days)*100))\n",
        "print(\"\")\n",
        "print(\"LSTM - 3 - 3days\")\n",
        "print(\"MSE  : \" + str(mean_squared_error(y_test_3_3days, y_pred_test_LSTM_3_3days)))\n",
        "print(\"MAE  : \" + str(mean_absolute_error(y_test_3_3days, y_pred_test_LSTM_3_3days)))\n",
        "print(\"MAPE : \" + str(mean_absolute_percentage_error(y_test_3_3days, y_pred_test_LSTM_3_3days)*100))\n",
        "print(\"\")\n",
        "print(\"LSTM - 3 - 7days\")\n",
        "print(\"MSE  : \" + str(mean_squared_error(y_test_3_7days, y_pred_test_LSTM_3_7days)))\n",
        "print(\"MAE  : \" + str(mean_absolute_error(y_test_3_7days, y_pred_test_LSTM_3_7days)))\n",
        "print(\"MAPE : \" + str(mean_absolute_percentage_error(y_test_3_7days, y_pred_test_LSTM_3_7days)*100))\n",
        "print(\"\")\n",
        "print(\"LSTM - 3 - 14days\")\n",
        "print(\"MSE  : \" + str(mean_squared_error(y_test_3_14days, y_pred_test_LSTM_3_14days)))\n",
        "print(\"MAE  : \" + str(mean_absolute_error(y_test_3_14days, y_pred_test_LSTM_3_14days)))\n",
        "print(\"MAPE : \" + str(mean_absolute_percentage_error(y_test_3_14days, y_pred_test_LSTM_3_14days)*100))\n"
      ]
    },
    {
      "cell_type": "markdown",
      "metadata": {
        "id": "kXcm4JuAwTML"
      },
      "source": [
        "# MÔ HÌNH VAR"
      ]
    },
    {
      "cell_type": "code",
      "execution_count": null,
      "metadata": {
        "id": "-EdCemz7wWPg"
      },
      "outputs": [],
      "source": [
        "from statsmodels.tsa.api import VAR"
      ]
    },
    {
      "cell_type": "code",
      "execution_count": null,
      "metadata": {
        "id": "_KV10XYiwWNM"
      },
      "outputs": [],
      "source": [
        "data_var_1 = data.copy()\n",
        "data_var_3 = data.copy()"
      ]
    },
    {
      "cell_type": "code",
      "execution_count": null,
      "metadata": {
        "id": "U03vEHK8wWKW"
      },
      "outputs": [],
      "source": [
        "del data_var_1['DXY']\n",
        "del data_var_1['Fear and Greed Index']\n",
        "data_var_1['BTC/USD 2'] = data_var_1['BTC/USD']"
      ]
    },
    {
      "cell_type": "code",
      "execution_count": null,
      "metadata": {
        "id": "2U1tochVwWAY"
      },
      "outputs": [],
      "source": [
        "nobs_3 = 3\n",
        "nobs_7 = 7\n",
        "nobs_14 = 14\n",
        "\n",
        "\n",
        "data_train_var_1_3days, data_test_var_1_3days = data_var_1[0:-nobs_3], data_var_1[-nobs_3:]\n",
        "\n",
        "data_train_var_1_7days, data_test_var_1_7days = data_var_1[0:-nobs_7], data_var_1[-nobs_7:]\n",
        "\n",
        "data_train_var_1_14days, data_test_var_1_14days = data_var_1[0:-nobs_14], data_var_1[-nobs_14:]\n",
        "\n",
        "data_train_var_3_3days, data_test_var_3_3days = data_var_3[0:-nobs_3], data_var_3[-nobs_3:]\n",
        "\n",
        "data_train_var_3_7days, data_test_var_3_7days = data_var_3[0:-nobs_7], data_var_3[-nobs_7:]\n",
        "\n",
        "data_train_var_3_14days, data_test_var_3_14days = data_var_3[0:-nobs_14], data_var_3[-nobs_14:]\n",
        "\n",
        "\n",
        "data_train_var_1_3days_diff = data_train_var_1_3days.diff().dropna()\n",
        "data_train_var_1_7days_diff = data_train_var_1_7days.diff().dropna()\n",
        "data_train_var_1_14days_diff = data_train_var_1_14days.diff().dropna()\n",
        "data_train_var_3_3days_diff = data_train_var_3_3days.diff().dropna()\n",
        "data_train_var_3_7days_diff = data_train_var_3_7days.diff().dropna() \n",
        "data_train_var_3_14days_diff = data_train_var_3_14days.diff().dropna()"
      ]
    },
    {
      "cell_type": "code",
      "execution_count": null,
      "metadata": {
        "id": "7o-aURGGwVpQ",
        "colab": {
          "base_uri": "https://localhost:8080/"
        },
        "outputId": "d4dd95d0-776c-41fc-8ff5-b1569b22b059"
      },
      "outputs": [
        {
          "output_type": "stream",
          "name": "stderr",
          "text": [
            "/usr/local/lib/python3.7/dist-packages/statsmodels/tsa/base/tsa_model.py:165: ValueWarning: No frequency information was provided, so inferred frequency D will be used.\n",
            "  % freq, ValueWarning)\n",
            "/usr/local/lib/python3.7/dist-packages/statsmodels/tsa/base/tsa_model.py:165: ValueWarning: No frequency information was provided, so inferred frequency D will be used.\n",
            "  % freq, ValueWarning)\n",
            "/usr/local/lib/python3.7/dist-packages/statsmodels/tsa/base/tsa_model.py:165: ValueWarning: No frequency information was provided, so inferred frequency D will be used.\n",
            "  % freq, ValueWarning)\n",
            "/usr/local/lib/python3.7/dist-packages/statsmodels/tsa/base/tsa_model.py:165: ValueWarning: No frequency information was provided, so inferred frequency D will be used.\n",
            "  % freq, ValueWarning)\n",
            "/usr/local/lib/python3.7/dist-packages/statsmodels/tsa/base/tsa_model.py:165: ValueWarning: No frequency information was provided, so inferred frequency D will be used.\n",
            "  % freq, ValueWarning)\n",
            "/usr/local/lib/python3.7/dist-packages/statsmodels/tsa/base/tsa_model.py:165: ValueWarning: No frequency information was provided, so inferred frequency D will be used.\n",
            "  % freq, ValueWarning)\n"
          ]
        }
      ],
      "source": [
        "maxlags = 10\n",
        "model_VAR_1_3days = VAR(data_train_var_1_3days_diff)\n",
        "model_VAR_1_7days = VAR(data_train_var_1_7days_diff)\n",
        "model_VAR_1_14days = VAR(data_train_var_1_14days_diff)\n",
        "model_VAR_3_3days = VAR(data_train_var_3_3days_diff)\n",
        "model_VAR_3_7days = VAR(data_train_var_3_7days_diff)\n",
        "model_VAR_3_14days = VAR(data_train_var_3_14days_diff)\n",
        "\n",
        "lag_order = 10\n",
        "fitted_model_VAR_1_3days = model_VAR_1_3days.fit(10)\n",
        "fitted_model_VAR_1_7days = model_VAR_1_7days.fit(10)\n",
        "fitted_model_VAR_1_14days = model_VAR_1_14days.fit(10)\n",
        "fitted_model_VAR_3_3days = model_VAR_3_3days.fit(10)\n",
        "fitted_model_VAR_3_7days = model_VAR_3_7days.fit(10)\n",
        "fitted_model_VAR_3_14days = model_VAR_3_14days.fit(10)\n",
        "\n",
        "# Get the lag order\n",
        "#lag_order = fitted_model.k_ar\n",
        "\n",
        "# Input data for forecasting\n",
        "forecast_input_var_1_3days = data_train_var_1_3days_diff.values[-30:]\n",
        "forecast_input_var_1_7days = data_train_var_1_7days_diff.values[-30:]\n",
        "forecast_input_var_1_14days = data_train_var_1_14days_diff.values[-30:]\n",
        "forecast_input_var_3_3days = data_train_var_3_3days_diff.values[-30:]\n",
        "forecast_input_var_3_7days = data_train_var_3_7days_diff.values[-30:]\n",
        "forecast_input_var_3_14days = data_train_var_3_14days_diff.values[-30:]\n",
        "\n",
        "# Forecast\n",
        "fc_diff_VAR_1_3days = fitted_model_VAR_1_3days.forecast(y = forecast_input_var_1_3days, steps = nobs_3)\n",
        "df_diff_VAR_1_3days = pd.DataFrame(fc_diff_VAR_1_3days, columns = ['BTC/USD','BTC/USD 2'], index = data_test_var_1_3days.index[0:nobs_3])\n",
        "\n",
        "fc_diff_VAR_1_7days = fitted_model_VAR_1_7days.forecast(y = forecast_input_var_1_7days, steps = nobs_7)\n",
        "df_diff_VAR_1_7days = pd.DataFrame(fc_diff_VAR_1_7days, columns = ['BTC/USD','BTC/USD 2'], index = data_test_var_1_7days.index[0:nobs_7])\n",
        "\n",
        "fc_diff_VAR_1_14days = fitted_model_VAR_1_14days.forecast(y = forecast_input_var_1_14days, steps = nobs_14)\n",
        "df_diff_VAR_1_14days = pd.DataFrame(fc_diff_VAR_1_14days, columns = ['BTC/USD','BTC/USD 2'], index = data_test_var_1_14days.index[0:nobs_14])\n",
        "\n",
        "fc_diff_VAR_3_3days = fitted_model_VAR_3_3days.forecast(y = forecast_input_var_3_3days, steps = nobs_3)\n",
        "df_diff_VAR_3_3days = pd.DataFrame(fc_diff_VAR_3_3days, columns = ['BTC/USD','DXY', 'Fear and Greed Index'], index = data_test_var_3_3days.index[0:nobs_3])\n",
        "\n",
        "fc_diff_VAR_3_7days = fitted_model_VAR_3_7days.forecast(y = forecast_input_var_3_7days, steps = nobs_7)\n",
        "df_diff_VAR_3_7days = pd.DataFrame(fc_diff_VAR_3_7days, columns = ['BTC/USD','DXY', 'Fear and Greed Index'], index = data_test_var_3_7days.index[0:nobs_7])\n",
        "\n",
        "fc_diff_VAR_3_14days = fitted_model_VAR_3_14days.forecast(y = forecast_input_var_3_14days, steps = nobs_14)\n",
        "df_diff_VAR_3_14days = pd.DataFrame(fc_diff_VAR_3_14days, columns = ['BTC/USD','DXY', 'Fear and Greed Index'], index = data_test_var_3_14days.index[0:nobs_14])"
      ]
    },
    {
      "cell_type": "code",
      "execution_count": null,
      "metadata": {
        "id": "OC-hX6k-0-5P"
      },
      "outputs": [],
      "source": [
        "def invert(df_diff, first_value):\n",
        "  Value = []\n",
        "  if df_diff.shape[1] != first_value.shape[0]: \n",
        "    print('Cannot invert')\n",
        "  else:\n",
        "    for i in range(len(df_diff.values)):\n",
        "      a = first_value + df_diff.values[i,:]\n",
        "      Value.append(a)\n",
        "      first_value = Value[len(Value)-1]\n",
        "    print('Invert successfull')\n",
        "    df = pd.DataFrame(Value, columns = df_diff.columns, index = df_diff.index)\n",
        "    return df"
      ]
    },
    {
      "cell_type": "code",
      "execution_count": null,
      "metadata": {
        "id": "tB7DByGb0-2M",
        "colab": {
          "base_uri": "https://localhost:8080/"
        },
        "outputId": "a0c3b2c2-b3e1-4fe6-ddbe-c62deab48a97"
      },
      "outputs": [
        {
          "output_type": "stream",
          "name": "stdout",
          "text": [
            "Invert successfull\n",
            "Invert successfull\n",
            "Invert successfull\n",
            "Invert successfull\n",
            "Invert successfull\n",
            "Invert successfull\n"
          ]
        }
      ],
      "source": [
        "df_VAR_1_3days = invert(df_diff_VAR_1_3days,data_train_var_1_3days.values[len(data_train_var_1_3days)-1])\n",
        "df_VAR_1_7days = invert(df_diff_VAR_1_7days,data_train_var_1_7days.values[len(data_train_var_1_7days)-1])\n",
        "df_VAR_1_14days = invert(df_diff_VAR_1_14days,data_train_var_1_14days.values[len(data_train_var_1_14days)-1])\n",
        "df_VAR_3_3days = invert(df_diff_VAR_3_3days,data_train_var_3_3days.values[len(data_train_var_3_3days)-1])\n",
        "df_VAR_3_7days = invert(df_diff_VAR_3_7days,data_train_var_3_7days.values[len(data_train_var_3_7days)-1])\n",
        "df_VAR_3_14days = invert(df_diff_VAR_3_14days,data_train_var_3_14days.values[len(data_train_var_3_14days)-1])"
      ]
    },
    {
      "cell_type": "code",
      "execution_count": null,
      "metadata": {
        "id": "bb-aKJCd1nEY",
        "colab": {
          "base_uri": "https://localhost:8080/"
        },
        "outputId": "b2688d45-9323-49b7-abce-a254e68f03f6"
      },
      "outputs": [
        {
          "output_type": "stream",
          "name": "stdout",
          "text": [
            "VAR - 1 - 3days\n",
            "MSE  :  429323.17084455636\n",
            "MAE  :  623.8008480806699\n",
            "MAPE :  2.9807104243422518\n",
            "\n",
            "VAR - 1 - 7days\n",
            "MSE  :  686063.7706866184\n",
            "MAE  :  642.4538979112606\n",
            "MAPE :  3.163201888253265\n",
            "\n",
            "VAR - 1 - 14days\n",
            "MSE  :  57968967.08841268\n",
            "MAE  :  7194.507888530047\n",
            "MAPE :  34.43160752345044\n",
            "\n",
            "VAR - 3 - 3days\n",
            "MSE :  257839.336129179\n",
            "MAE  :  501.00026205082395\n",
            "MAPE :  2.424071742706355\n",
            "\n",
            "VAR - 3 - 7days\n",
            "MSE  :  671454.7657601906\n",
            "MAE  :  556.6350659555309\n",
            "MAPE :  2.8120392582737197\n",
            "\n",
            "VAR - 3 - 14days\n",
            "MSE  :  63290151.48775984\n",
            "MAE  :  7496.6339129578255\n",
            "MAPE :  35.907138652925134\n",
            "\n"
          ]
        }
      ],
      "source": [
        "print(\"VAR - 1 - 3days\")\n",
        "print('MSE  : ',mean_squared_error(data_test_var_1_3days['BTC/USD'], df_VAR_1_3days['BTC/USD'], squared=True))\n",
        "print('MAE  : ',mean_absolute_error(data_test_var_1_3days['BTC/USD'], df_VAR_1_3days['BTC/USD']))\n",
        "print('MAPE : ',mean_absolute_percentage_error(data_test_var_1_3days['BTC/USD'], df_VAR_1_3days['BTC/USD'])*100)\n",
        "\n",
        "print(\"\")\n",
        "\n",
        "print(\"VAR - 1 - 7days\")\n",
        "print('MSE  : ',mean_squared_error(data_test_var_1_7days['BTC/USD'], df_VAR_1_7days['BTC/USD'], squared=True))\n",
        "print('MAE  : ',mean_absolute_error(data_test_var_1_7days['BTC/USD'], df_VAR_1_7days['BTC/USD']))\n",
        "print('MAPE : ',mean_absolute_percentage_error(data_test_var_1_7days['BTC/USD'], df_VAR_1_7days['BTC/USD'])*100)\n",
        "\n",
        "print(\"\")\n",
        "\n",
        "print(\"VAR - 1 - 14days\")\n",
        "print('MSE  : ',mean_squared_error(data_test_var_1_14days['BTC/USD'], df_VAR_1_14days['BTC/USD'], squared=True))\n",
        "print('MAE  : ',mean_absolute_error(data_test_var_1_14days['BTC/USD'], df_VAR_1_14days['BTC/USD']))\n",
        "print('MAPE : ',mean_absolute_percentage_error(data_test_var_1_14days['BTC/USD'], df_VAR_1_14days['BTC/USD'])*100)\n",
        "print(\"\")\n",
        "\n",
        "print(\"VAR - 3 - 3days\")\n",
        "print('MSE : ',mean_squared_error(data_test_var_3_3days['BTC/USD'], df_VAR_3_3days['BTC/USD'], squared=True))\n",
        "print('MAE  : ',mean_absolute_error(data_test_var_3_3days['BTC/USD'], df_VAR_3_3days['BTC/USD']))\n",
        "print('MAPE : ',mean_absolute_percentage_error(data_test_var_3_3days['BTC/USD'], df_VAR_3_3days['BTC/USD'])*100)\n",
        "print(\"\")\n",
        "\n",
        "print(\"VAR - 3 - 7days\")\n",
        "print('MSE  : ',mean_squared_error(data_test_var_3_7days['BTC/USD'], df_VAR_3_7days['BTC/USD'], squared=True))\n",
        "print('MAE  : ',mean_absolute_error(data_test_var_3_7days['BTC/USD'], df_VAR_3_7days['BTC/USD']))\n",
        "print('MAPE : ',mean_absolute_percentage_error(data_test_var_3_7days['BTC/USD'], df_VAR_3_7days['BTC/USD'])*100)\n",
        "print(\"\")\n",
        "\n",
        "print(\"VAR - 3 - 14days\")\n",
        "print('MSE  : ',mean_squared_error(data_test_var_3_14days['BTC/USD'], df_VAR_3_14days['BTC/USD'], squared=True))\n",
        "print('MAE  : ',mean_absolute_error(data_test_var_3_14days['BTC/USD'], df_VAR_3_14days['BTC/USD']))\n",
        "print('MAPE : ',mean_absolute_percentage_error(data_test_var_3_14days['BTC/USD'], df_VAR_3_14days['BTC/USD'])*100)\n",
        "print(\"\")"
      ]
    }
  ],
  "metadata": {
    "accelerator": "GPU",
    "colab": {
      "collapsed_sections": [],
      "name": "Thiết kế và phân tích thực nghiệm DS304.ipynb",
      "provenance": [],
      "toc_visible": true
    },
    "kernelspec": {
      "display_name": "Python 3",
      "name": "python3"
    },
    "language_info": {
      "name": "python"
    }
  },
  "nbformat": 4,
  "nbformat_minor": 0
}